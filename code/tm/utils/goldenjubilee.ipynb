{
 "cells": [
  {
   "cell_type": "code",
   "execution_count": 21,
   "metadata": {},
   "outputs": [],
   "source": [
    "from pandas import read_excel\n",
    "from sqlalchemy.ext.automap import automap_base\n",
    "from sqlalchemy import create_engine\n",
    "from sqlalchemy.orm import Session\n",
    "import pandas as pd"
   ]
  },
  {
   "cell_type": "code",
   "execution_count": 2,
   "metadata": {},
   "outputs": [],
   "source": [
    "from keywordsdw import GJBResearcherProfile, GJBThesis, Author"
   ]
  },
  {
   "cell_type": "code",
   "execution_count": 3,
   "metadata": {},
   "outputs": [
    {
     "name": "stderr",
     "output_type": "stream",
     "text": [
      "/Users/likit/.virtualenvs/tmob2018/lib/python3.7/site-packages/psycopg2/__init__.py:144: UserWarning: The psycopg2 wheel package will be renamed from release 2.8; in order to keep installing from binary please use \"pip install psycopg2-binary\" instead. For details see: <http://initd.org/psycopg/docs/install.html#binary-install-from-pypi>.\n",
      "  \"\"\")\n"
     ]
    }
   ],
   "source": [
    "engine = create_engine('postgres+psycopg2://postgres@localhost:5434/keywordsdw')"
   ]
  },
  {
   "cell_type": "code",
   "execution_count": 4,
   "metadata": {},
   "outputs": [],
   "source": [
    "session = Session(engine)"
   ]
  },
  {
   "cell_type": "code",
   "execution_count": 5,
   "metadata": {},
   "outputs": [],
   "source": [
    "df = read_excel('goldenjubilee2018.xlsx')"
   ]
  },
  {
   "cell_type": "code",
   "execution_count": 12,
   "metadata": {},
   "outputs": [
    {
     "data": {
      "text/html": [
       "<div>\n",
       "<style scoped>\n",
       "    .dataframe tbody tr th:only-of-type {\n",
       "        vertical-align: middle;\n",
       "    }\n",
       "\n",
       "    .dataframe tbody tr th {\n",
       "        vertical-align: top;\n",
       "    }\n",
       "\n",
       "    .dataframe thead th {\n",
       "        text-align: right;\n",
       "    }\n",
       "</style>\n",
       "<table border=\"1\" class=\"dataframe\">\n",
       "  <thead>\n",
       "    <tr style=\"text-align: right;\">\n",
       "      <th></th>\n",
       "      <th>projectid</th>\n",
       "      <th>maincode</th>\n",
       "      <th>secondcode</th>\n",
       "      <th>universitycode</th>\n",
       "      <th>yearcode</th>\n",
       "      <th>advisorid</th>\n",
       "      <th>stdid</th>\n",
       "      <th>title_th</th>\n",
       "      <th>firstname_th</th>\n",
       "      <th>lastname_th</th>\n",
       "      <th>project_status</th>\n",
       "      <th>major</th>\n",
       "      <th>faculty</th>\n",
       "      <th>university</th>\n",
       "      <th>email</th>\n",
       "      <th>thesistitle_thai</th>\n",
       "      <th>thesistitle_eng</th>\n",
       "      <th>title_en</th>\n",
       "      <th>firstname_en</th>\n",
       "      <th>lastname_en</th>\n",
       "    </tr>\n",
       "  </thead>\n",
       "  <tbody>\n",
       "    <tr>\n",
       "      <th>0</th>\n",
       "      <td>PHD41K0177</td>\n",
       "      <td>4</td>\n",
       "      <td>S</td>\n",
       "      <td>NU</td>\n",
       "      <td>41</td>\n",
       "      <td>A</td>\n",
       "      <td>1</td>\n",
       "      <td>น.ส.</td>\n",
       "      <td>ภัคสิริ</td>\n",
       "      <td>สินไชยกิจ</td>\n",
       "      <td>สิ้นสุดโครงการ</td>\n",
       "      <td>วิทยาศาสตร์ชีวภาพ</td>\n",
       "      <td>คณะวิทยาศาสตร์</td>\n",
       "      <td>มหาวิทยาลัยนเรศวร</td>\n",
       "      <td>puksiri1@hotmail.com</td>\n",
       "      <td>ฤทธิ์ต้านอนุมูลอิสระและคุณสมบัติทางชีวภาพของฟล...</td>\n",
       "      <td>Antioxidant and relating biological activities...</td>\n",
       "      <td>NaN</td>\n",
       "      <td>NaN</td>\n",
       "      <td>NaN</td>\n",
       "    </tr>\n",
       "  </tbody>\n",
       "</table>\n",
       "</div>"
      ],
      "text/plain": [
       "    projectid  maincode secondcode universitycode  yearcode advisorid  stdid  \\\n",
       "0  PHD41K0177         4          S             NU        41         A      1   \n",
       "\n",
       "  title_th firstname_th lastname_th  project_status              major  \\\n",
       "0     น.ส.      ภัคสิริ   สินไชยกิจ  สิ้นสุดโครงการ  วิทยาศาสตร์ชีวภาพ   \n",
       "\n",
       "          faculty         university                 email  \\\n",
       "0  คณะวิทยาศาสตร์  มหาวิทยาลัยนเรศวร  puksiri1@hotmail.com   \n",
       "\n",
       "                                    thesistitle_thai  \\\n",
       "0  ฤทธิ์ต้านอนุมูลอิสระและคุณสมบัติทางชีวภาพของฟล...   \n",
       "\n",
       "                                     thesistitle_eng title_en firstname_en  \\\n",
       "0  Antioxidant and relating biological activities...      NaN          NaN   \n",
       "\n",
       "  lastname_en  \n",
       "0         NaN  "
      ]
     },
     "execution_count": 12,
     "metadata": {},
     "output_type": "execute_result"
    }
   ],
   "source": [
    "df.head(1)"
   ]
  },
  {
   "cell_type": "code",
   "execution_count": 6,
   "metadata": {},
   "outputs": [
    {
     "data": {
      "text/plain": [
       "Index(['projectid', 'maincode', 'secondcode', 'universitycode', 'yearcode',\n",
       "       'advisorid', 'stdid', 'คำนำหน้าชื่อ', 'ชื่อ', 'นามสกุล', 'สถานะโครงการ',\n",
       "       'ชื่อสาขา', 'คณะ', 'มหาวิทยาลัย', 'อีเมล์', 'thesistitle_thai',\n",
       "       'thesistitle_eng', 'PrefixEngStd', 'NameEngStd', 'LastNameEngStd'],\n",
       "      dtype='object')"
      ]
     },
     "execution_count": 6,
     "metadata": {},
     "output_type": "execute_result"
    }
   ],
   "source": [
    "df.columns"
   ]
  },
  {
   "cell_type": "code",
   "execution_count": 7,
   "metadata": {},
   "outputs": [],
   "source": [
    "df.rename(columns={'คณะ': 'faculty', 'คำนำหน้าชื่อ': 'title_th', 'ชื่อ': 'firstname_th',\n",
    "                   'PrefixEngStd': 'title_en', 'NameEngStd': 'firstname_en',\n",
    "                   'LastNameEngStd': 'lastname_en',\n",
    "                  'นามสกุล': 'lastname_th', 'สถานะโครงการ': 'project_status',\n",
    "                  'ชื่อสาขา': 'major', 'มหาวิทยาลัย': 'university',\n",
    "                  'อีเมล์': 'email'}, inplace=True)"
   ]
  },
  {
   "cell_type": "code",
   "execution_count": 46,
   "metadata": {},
   "outputs": [],
   "source": [
    "for idx,row in df.iterrows():\n",
    "    gender = 'M' if row['title_th']=='นาย' else 'F'\n",
    "    project_status = True if row['project_status'] == 'สิ้นสุดโครงการ' else False\n",
    "    gjb_thesis = GJBThesis(\n",
    "        finished=project_status,\n",
    "        title_th=row['thesistitle_thai'],\n",
    "        title_en=row['thesistitle_eng']\n",
    "    )\n",
    "    gjb_researcher = GJBResearcherProfile(\n",
    "        title_th=row['title_th'],\n",
    "        title_en=row['title_en'] if not pd.isna(row['title_en']) else None,\n",
    "        first_name_th=row['firstname_th'],\n",
    "        last_name_th=row['lastname_th'],\n",
    "        first_name_en=row['firstname_en'].lower() if not pd.isna(row['firstname_en']) else None,\n",
    "        last_name_en=row['lastname_en'].lower() if not pd.isna(row['lastname_en']) else None,\n",
    "        gender=gender,\n",
    "        email=row['email'],\n",
    "        major_th=row['major'],\n",
    "        faculty_th=row['faculty'],\n",
    "        university_th=row['university'],\n",
    "    )\n",
    "    gjb_researcher.theses.append(gjb_thesis)\n",
    "    session.add(gjb_researcher)\n",
    "session.commit()"
   ]
  },
  {
   "cell_type": "code",
   "execution_count": 42,
   "metadata": {},
   "outputs": [],
   "source": [
    "r = row['lastname_en'].lower() if not pd.isna(row['lastname_en']) else None"
   ]
  },
  {
   "cell_type": "code",
   "execution_count": 44,
   "metadata": {},
   "outputs": [
    {
     "name": "stdout",
     "output_type": "stream",
     "text": [
      "None\n"
     ]
    }
   ],
   "source": [
    "print(r)"
   ]
  },
  {
   "cell_type": "code",
   "execution_count": 27,
   "metadata": {},
   "outputs": [
    {
     "data": {
      "text/plain": [
       "True"
      ]
     },
     "execution_count": 27,
     "metadata": {},
     "output_type": "execute_result"
    }
   ],
   "source": [
    "pd.isna(row['firstname_en'])"
   ]
  },
  {
   "cell_type": "code",
   "execution_count": null,
   "metadata": {},
   "outputs": [],
   "source": []
  }
 ],
 "metadata": {
  "kernelspec": {
   "display_name": "Python 3",
   "language": "python",
   "name": "python3"
  },
  "language_info": {
   "codemirror_mode": {
    "name": "ipython",
    "version": 3
   },
   "file_extension": ".py",
   "mimetype": "text/x-python",
   "name": "python",
   "nbconvert_exporter": "python",
   "pygments_lexer": "ipython3",
   "version": "3.7.0"
  }
 },
 "nbformat": 4,
 "nbformat_minor": 2
}
